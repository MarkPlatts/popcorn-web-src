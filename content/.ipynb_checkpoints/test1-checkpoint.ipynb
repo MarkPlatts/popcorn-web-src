{
 "cells": [
  {
   "cell_type": "markdown",
   "metadata": {},
   "source": [
    "# Data Cleaning\n",
    "\n",
    "When we are using a preconfigured word embeddings model and convolution or recurrent neural networks the data cleaning process is quite different from the one applied when preparing data for traditional machine learning models.\n",
    "\n",
    "When we are fitting an RNN we often want to keep the text in it's original format because it contains important information. For example, we often don't want to get rid of stopwords because they might tell us something about surround words such as whether a word is a noun or a verb. Instead, the main goal of cleaning when using an RNN with pre-trained word embeddings is getting the vocabulary used in the dataset as similar as possible to that used in the embeddings model; this is important because unless the word can be transformed into a vector the model cannot use it. The specifics of how this is done depends on the embedding. We will be using the glove.840B.300d pre-trained vectors (https://nlp.stanford.edu/projects/glove/). The general approach is approximately the same for other word embeddings.\n",
    "\n",
    "What we will do here is go through an iterative process that starts by looking at how much of the data can be represented by the pre-trained word vectors and identifying the the most common tokens that can't be represented. We then write a function that cleans the data so that these tokens are modified to text that can be represented. We then repeat this process by checking which tokens can't be represented and tweaking our cleaning function until we are happy that it cleans the data well enough. This function can then be used as part of our pipeline well modelling.\n",
    "\n",
    "Note: Note that tqdm is a nice little package that you can use to output a progress bar when you perform a loop. For more information https://pypi.org/project/tqdm/. In most cases I ended up not using this in this code because it doesn't display well in a jupyter notebook, but when working on your own code it can be useful to see that your program is progressing."
   ]
  }
 ],
 "metadata": {
  "kernelspec": {
   "display_name": "Python 3",
   "language": "python",
   "name": "python3"
  },
  "language_info": {
   "codemirror_mode": {
    "name": "ipython",
    "version": 3
   },
   "file_extension": ".py",
   "mimetype": "text/x-python",
   "name": "python",
   "nbconvert_exporter": "python",
   "pygments_lexer": "ipython3",
   "version": "3.6.6"
  }
 },
 "nbformat": 4,
 "nbformat_minor": 1
}
